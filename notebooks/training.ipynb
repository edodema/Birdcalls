{
 "cells": [
  {
   "cell_type": "markdown",
   "source": [
    "Author: Edoardo De Matteis"
   ],
   "metadata": {
    "collapsed": false
   }
  },
  {
   "cell_type": "code",
   "execution_count": null,
   "outputs": [],
   "source": [
    "# Install dependencies.\n",
    "# !pip install torchaudio"
   ],
   "metadata": {
    "collapsed": false,
    "pycharm": {
     "name": "#%%\n"
    }
   }
  },
  {
   "cell_type": "code",
   "execution_count": null,
   "outputs": [],
   "source": [
    "# Import dependencies.\n",
    "import torch\n",
    "from torch.utils.data import Dataset, DataLoader\n",
    "import torchaudio\n",
    "import torchaudio.transforms as T\n",
    "import pandas as pd\n",
    "from pathlib import Path\n",
    "from typing import Dict, Optional, Callable"
   ],
   "metadata": {
    "collapsed": false,
    "pycharm": {
     "name": "#%%\n"
    }
   }
  },
  {
   "cell_type": "code",
   "execution_count": null,
   "outputs": [],
   "source": [
    "# Environmental variables.\n",
    "TRAIN_BIRDCALLS = \"path/to/be/defined\"\n",
    "BIRDCALLS_CSV = \"path/to/be/defined\""
   ],
   "metadata": {
    "collapsed": false,
    "pycharm": {
     "name": "#%%\n"
    }
   }
  },
  {
   "cell_type": "code",
   "execution_count": null,
   "outputs": [],
   "source": [
    "def get_spectrogram(\n",
    "    audio_file: Path,\n",
    "    n_fft: int = 1024,\n",
    "    win_length: Optional[int] = None,\n",
    "    hop_length: int = 512,\n",
    "    n_mels: int = 128,\n",
    "    mel: bool = True\n",
    ") -> torch.Tensor:\n",
    "    \"\"\"\n",
    "    Get the spectrogram of an audio file.\n",
    "    :param audio_file: Path of the audio file..\n",
    "    :param n_fft:\n",
    "    :param win_length:\n",
    "    :param hop_length:\n",
    "    :param n_mels:\n",
    "    :param mel: If true we want melodic spectrograms.\n",
    "    :param kwargs:\n",
    "    :return:\n",
    "    \"\"\"\n",
    "    waveform, sample_rate = torchaudio.load(audio_file, format=\"ogg\")\n",
    "\n",
    "    spectrogram: Callable\n",
    "\n",
    "    if not mel:\n",
    "        spectrogram = T.Spectrogram(\n",
    "            n_fft=n_fft,\n",
    "            win_length=win_length,\n",
    "            hop_length=hop_length,\n",
    "            center=True,\n",
    "            pad_mode=\"reflect\",\n",
    "            power=2.0,\n",
    "        )\n",
    "    else:\n",
    "        # Mel Spectrogram transform.\n",
    "        spectrogram = T.MelSpectrogram(\n",
    "            sample_rate=sample_rate,\n",
    "            n_fft=n_fft,\n",
    "            win_length=win_length,\n",
    "            hop_length=hop_length,\n",
    "            center=True,\n",
    "            pad_mode=\"reflect\",\n",
    "            power=2.0,\n",
    "            norm=\"slaney\",\n",
    "            onesided=True,\n",
    "            n_mels=n_mels,\n",
    "            mel_scale=\"htk\",\n",
    "        )\n",
    "\n",
    "    return spectrogram(waveform)"
   ],
   "metadata": {
    "collapsed": false,
    "pycharm": {
     "name": "#%% Auxiliary functions.\n"
    }
   }
  },
  {
   "cell_type": "code",
   "source": [
    "# Use this cell to access data\n",
    "class BirdcallDataset(Dataset):\n",
    "    def __init__(self, path: str, **kwargs):\n",
    "        df = pd.read_csv(path).drop([\"Unnamed: 0\"], axis=1)\n",
    "        self.idx = df[\"bird_idx\"].values.tolist()\n",
    "        self.name = df[\"bird_name\"].values.tolist()\n",
    "        self.call = df[\"bird_call\"].values.tolist()\n",
    "\n",
    "    def __len__(self) -> int:\n",
    "        return len(self.idx)\n",
    "\n",
    "    def __getitem__(self, item) -> Dict:\n",
    "        return {\"idx\": self.idx[item], \"name\": self.name[item], \"call\": self.call[item]}\n",
    "\n",
    "    @staticmethod\n",
    "    def collate_fn(data):\n",
    "        birds = []\n",
    "        specs = []\n",
    "\n",
    "        for obj in data:\n",
    "            idx = obj[\"idx\"]\n",
    "            name = obj[\"name\"]\n",
    "            call = obj[\"call\"]\n",
    "\n",
    "            audio_file = str(TRAIN_BIRDCALLS / name / call)\n",
    "            spec = get_spectrogram(audio_file)\n",
    "\n",
    "            birds.append(idx)\n",
    "            specs.append(spec)\n",
    "\n",
    "        return {\"bird\": torch.tensor(birds), \"spec\": specs}"
   ],
   "metadata": {
    "collapsed": false,
    "pycharm": {
     "name": "#%%\n"
    }
   },
   "execution_count": null,
   "outputs": []
  },
  {
   "cell_type": "code",
   "execution_count": null,
   "outputs": [],
   "source": [
    "# Actual instantiation.\n",
    "birdcall_ds = BirdcallDataset(BIRDCALLS_CSV)\n",
    "birdcall_dl = DataLoader(dataset=birdcall_ds, batch_size=32, collate_fn=BirdcallDataset.collate_fn)"
   ],
   "metadata": {
    "collapsed": false,
    "pycharm": {
     "name": "#%%\n"
    }
   }
  }
 ],
 "metadata": {
  "kernelspec": {
   "display_name": "Python 3",
   "language": "python",
   "name": "python3"
  },
  "language_info": {
   "codemirror_mode": {
    "name": "ipython",
    "version": 2
   },
   "file_extension": ".py",
   "mimetype": "text/x-python",
   "name": "python",
   "nbconvert_exporter": "python",
   "pygments_lexer": "ipython2",
   "version": "2.7.6"
  }
 },
 "nbformat": 4,
 "nbformat_minor": 0
}