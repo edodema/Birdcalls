{
  "nbformat": 4,
  "nbformat_minor": 0,
  "metadata": {
    "colab": {
      "name": "joint_classification.ipynb",
      "provenance": [],
      "collapsed_sections": [],
      "toc_visible": true
    },
    "kernelspec": {
      "display_name": "Python 3",
      "language": "python",
      "name": "python3"
    },
    "language_info": {
      "codemirror_mode": {
        "name": "ipython",
        "version": 2
      },
      "file_extension": ".py",
      "mimetype": "text/x-python",
      "name": "python",
      "nbconvert_exporter": "python",
      "pygments_lexer": "ipython2",
      "version": "2.7.6"
    },
    "accelerator": "GPU"
  },
  "cells": [
    {
      "cell_type": "markdown",
      "metadata": {
        "collapsed": false,
        "id": "5NVLH5lI52dA"
      },
      "source": [
        "# Joint classification\n",
        "\n",
        "Author: Edoardo De Matteis"
      ]
    },
    {
      "cell_type": "markdown",
      "metadata": {
        "id": "TifKHSuXxvia"
      },
      "source": [
        "This notebook has been used to train the model used for the birdcall classification task i.e. a system that given an audio window predicts which bird is singing, we do not assume that there always is some bird singing therfore we should predict that the case in which there are no birds as well."
      ]
    },
    {
      "cell_type": "markdown",
      "metadata": {
        "collapsed": false,
        "id": "AunQbQWH52dC"
      },
      "source": [
        "## Dependencies"
      ]
    },
    {
      "cell_type": "code",
      "metadata": {
        "id": "cJOvN2NO52dD"
      },
      "source": [
        "!pip install torchaudio\n",
        "!pip install torchinfo\n",
        "!pip install pytorch_lightning\n",
        "!pip install wandb -qqq"
      ],
      "execution_count": null,
      "outputs": []
    },
    {
      "cell_type": "code",
      "metadata": {
        "id": "s0JvV6qw52dF"
      },
      "source": [
        "from pathlib import Path\n",
        "from typing import Dict, Optional, Tuple, Union, List, Any\n",
        "\n",
        "import torch\n",
        "import torchvision\n",
        "from torch import nn\n",
        "import torch.nn.functional as F\n",
        "from torch.utils.data import Dataset, DataLoader\n",
        "import torchmetrics\n",
        "import pytorch_lightning as pl\n",
        "from pytorch_lightning import Callback, seed_everything\n",
        "from pytorch_lightning.loggers import WandbLogger\n",
        "from pytorch_lightning.callbacks import (\n",
        "    EarlyStopping,\n",
        "    ModelCheckpoint,\n",
        "    LearningRateMonitor\n",
        ")\n",
        "from torchinfo import summary\n",
        "import json\n",
        "import wandb"
      ],
      "execution_count": null,
      "outputs": []
    },
    {
      "cell_type": "code",
      "metadata": {
        "id": "PZlm0EbU52dG"
      },
      "source": [
        "from google.colab import drive\n",
        "drive.mount('/content/gdrive')"
      ],
      "execution_count": null,
      "outputs": []
    },
    {
      "cell_type": "code",
      "metadata": {
        "id": "8cRay18t52dG"
      },
      "source": [
        "%cd /content/gdrive/MyDrive/Colab\\ Notebooks/Birdcalls"
      ],
      "execution_count": null,
      "outputs": []
    },
    {
      "cell_type": "code",
      "metadata": {
        "id": "BEMvpdrJ52dG"
      },
      "source": [
        "%load_ext autoreload\n",
        "%autoreload 2"
      ],
      "execution_count": null,
      "outputs": []
    },
    {
      "cell_type": "markdown",
      "metadata": {
        "collapsed": false,
        "id": "0fkI4vRU52dH"
      },
      "source": [
        "Let's define some basic functions that will help us:"
      ]
    },
    {
      "cell_type": "code",
      "metadata": {
        "id": "93Fp-ymx52dH"
      },
      "source": [
        "def build_callbacks(callbacks: Dict) -> List[Callback]:\n",
        "    out_callbacks: List[Callback] = []\n",
        "    if \"lr_monitor\" in callbacks:\n",
        "        out_callbacks.append(\n",
        "            LearningRateMonitor(\n",
        "                logging_interval=callbacks[\"lr_monitor\"][\"logging_interval\"],\n",
        "                log_momentum=callbacks[\"lr_monitor\"][\"log_momentum\"],\n",
        "            )\n",
        "        )\n",
        "\n",
        "    if \"early_stopping\" in callbacks:\n",
        "        out_callbacks.append(\n",
        "            EarlyStopping(\n",
        "                monitor=callbacks[\"monitor_metric\"],\n",
        "                mode=callbacks[\"monitor_metric_mode\"],\n",
        "                patience=callbacks[\"early_stopping\"][\"patience\"],\n",
        "                verbose=callbacks[\"early_stopping\"][\"verbose\"],\n",
        "            )\n",
        "        )\n",
        "\n",
        "    if \"model_checkpoints\" in callbacks:\n",
        "        out_callbacks.append(\n",
        "            ModelCheckpoint(\n",
        "                monitor=callbacks[\"monitor_metric\"],\n",
        "                mode=callbacks[\"monitor_metric_mode\"],\n",
        "                save_top_k=callbacks[\"model_checkpoints\"][\"save_top_k\"],\n",
        "                verbose=callbacks[\"model_checkpoints\"][\"verbsose\"],\n",
        "            )\n",
        "        )\n",
        "\n",
        "    return out_callbacks\n",
        "\n",
        "def cnn_size(\n",
        "    input: Tuple[int, int],\n",
        "    kernel: Union[int, Tuple[int, int]],\n",
        "    padding: Union[int, Tuple[int, int]] = 0,\n",
        "    stride: Union[int, Tuple[int, int]] = 1,\n",
        ") -> Tuple[int, int]:\n",
        "    \"\"\"\n",
        "    Return the size of the output of a convolutional layer.\n",
        "    :param input: Size of the input image.\n",
        "    :param kernel: Kernel size, it is assumed to be a square.\n",
        "    :param padding: Padding size.\n",
        "    :param stride: Stride.\n",
        "    :return: The output size.\n",
        "    \"\"\"\n",
        "    if isinstance(kernel, int):\n",
        "        kernel = (kernel, kernel)\n",
        "\n",
        "    if isinstance(padding, int):\n",
        "        padding = (padding, padding)\n",
        "\n",
        "    if isinstance(stride, int):\n",
        "        stride = (stride, stride)\n",
        "\n",
        "    out_w = (input[0] - kernel[0] + 2 * padding[0]) / stride[0] + 1\n",
        "    out_h = (input[1] - kernel[1] + 2 * padding[1]) / stride[1] + 1\n",
        "    return int(out_w), int(out_h)\n",
        "\n",
        "def load_vocab(path: Union[str, Path]) -> Dict:\n",
        "    \"\"\"\n",
        "    Load vocabulary from a JSON file.\n",
        "    :param path: Path to file.\n",
        "    :return: Dictionary object i.e. the vocabulary.\n",
        "    \"\"\"\n",
        "    f = open(path, \"r\")\n",
        "    vocab = json.load(f)\n",
        "    f.close()\n",
        "    return vocab"
      ],
      "execution_count": null,
      "outputs": []
    },
    {
      "cell_type": "markdown",
      "metadata": {
        "collapsed": false,
        "id": "xeyO6Vjr52dI"
      },
      "source": [
        "### Dataset"
      ]
    },
    {
      "cell_type": "code",
      "metadata": {
        "id": "0CSSwCok52dI"
      },
      "source": [
        "class JointDataset(Dataset):\n",
        "    def __init__(\n",
        "        self,\n",
        "        csv_path: Union[str, Path, None],\n",
        "        online: bool,\n",
        "        debug: int,\n",
        "        load: bool,\n",
        "        **kwargs\n",
        "    ):\n",
        "        \"\"\"\n",
        "        :param csv_path: Path of the training CSV file.\n",
        "        :param online: If true tensors are computed on-the-fly by the dataloader, otherwise they are all precomputed.\n",
        "        :param debug: Defines the size of the reduced dataset (it is shuffled beforehand) we want to use, any number\n",
        "        below or equal to 0 means that we keep the whole dataset.\n",
        "        :param load: If true we do not compute anything and will load values from a file.\n",
        "        :param kwargs:\n",
        "        \"\"\"\n",
        "        super(JointDataset, self).__init__()\n",
        "\n",
        "        self.online = online\n",
        "        self.len: int\n",
        "\n",
        "        self.spectrograms: torch.Tensor\n",
        "        self.targets: torch.Tensor\n",
        "\n",
        "    @staticmethod\n",
        "    def load(\n",
        "        spectrograms_path: Union[str, Path], targets_path: Union[str, Path], **kwargs\n",
        "    ):\n",
        "        \"\"\"\n",
        "        Load a dataset whose spectorgrams and targets are loaded from .pt files.\n",
        "        :param spectrograms_path: Path of the spectrograms tensor file.\n",
        "        :param targets_path: Path of the targets tensor file.\n",
        "        :param kwargs:\n",
        "        :return: A JointDataset object with populated tensors.\n",
        "        \"\"\"\n",
        "        ds = JointDataset(csv_path=None, online=False, debug=-1, load=True)\n",
        "\n",
        "        ds.spectrograms = torch.load(spectrograms_path)\n",
        "        ds.targets = torch.load(targets_path)\n",
        "        ds.len = len(ds.targets)\n",
        "\n",
        "        return ds\n",
        "\n",
        "    def __len__(self):\n",
        "        \"\"\"\n",
        "        :return: Length of the dataset.\n",
        "        \"\"\"\n",
        "        return self.len\n",
        "\n",
        "    def __getitem__(self, item):\n",
        "        \"\"\"\n",
        "        :param item: Index of the item to retrieve.\n",
        "        :return: The item-th entry.\n",
        "        \"\"\"\n",
        "        if self.online:\n",
        "            return {\n",
        "                \"row_id\": self.row_id[item],\n",
        "                \"site\": self.site[item],\n",
        "                \"audio_id\": self.audio_id[item],\n",
        "                \"seconds\": self.seconds[item],\n",
        "                \"birds\": self.birds[item],\n",
        "            }\n",
        "        else:\n",
        "            return {\n",
        "                \"spectrograms\": self.spectrograms[item],\n",
        "                \"targets\": self.targets[item],\n",
        "            }"
      ],
      "execution_count": null,
      "outputs": []
    },
    {
      "cell_type": "code",
      "metadata": {
        "id": "ymGIW2RD52dJ"
      },
      "source": [
        "class JointDataModule(pl.LightningModule):\n",
        "    def __init__(\n",
        "        self,\n",
        "        num_workers: Dict,\n",
        "        batch_size: Dict,\n",
        "        shuffle: Dict,\n",
        "        **kwargs,\n",
        "    ):\n",
        "        super().__init__()\n",
        "        self.num_workers = num_workers\n",
        "        self.batch_size = batch_size\n",
        "        self.shuffle = shuffle\n",
        "\n",
        "        # These attributes will be populated after self.setup() call.\n",
        "        self.train_ds: Optional[Dataset] = None\n",
        "        self.val_ds: Optional[Dataset] = None\n",
        "        self.test_ds: Optional[Dataset] = None\n",
        "\n",
        "    def setup(self, stage: Optional[str] = None) -> None:\n",
        "        if stage is None or stage == \"fit\":\n",
        "            # Train\n",
        "            self.train_ds = JointDataset.load(\n",
        "                spectrograms_path=TRAIN_SPECTROGRAMS,\n",
        "                targets_path=TRAIN_TARGETS\n",
        "            )\n",
        "\n",
        "            # Val\n",
        "            self.val_ds = JointDataset.load(\n",
        "                spectrograms_path=VAL_SPECTROGRAMS,\n",
        "                targets_path=VAL_TARGETS\n",
        "            )\n",
        "        \n",
        "        if stage is None or stage == \"test\":\n",
        "            # Test\n",
        "            self.test_ds = JointDataset.load(\n",
        "                spectrograms_path=TEST_SPECTROGRAMS,\n",
        "                targets_path=TEST_TARGETS\n",
        "            )\n",
        "    def train_dataloader(\n",
        "        self,\n",
        "    ) -> Union[DataLoader, List[DataLoader], Dict[str, DataLoader]]:\n",
        "        batch_size = self.batch_size[\"train\"]\n",
        "        shuffle = self.shuffle[\"train\"]\n",
        "\n",
        "        dl = DataLoader(\n",
        "            dataset=self.train_ds,\n",
        "            batch_size=batch_size,\n",
        "            shuffle=shuffle,\n",
        "        )\n",
        "\n",
        "        return dl\n",
        "\n",
        "    def val_dataloader(self) -> Union[DataLoader, List[DataLoader]]:\n",
        "        batch_size = self.batch_size[\"val\"]\n",
        "        shuffle = self.shuffle[\"val\"]\n",
        "\n",
        "        dl = DataLoader(\n",
        "            dataset=self.val_ds,\n",
        "            batch_size=batch_size,\n",
        "            shuffle=shuffle,\n",
        "        )\n",
        "\n",
        "        return dl\n",
        "    \n",
        "    def test_dataloader(self) -> Union[DataLoader, List[DataLoader]]:\n",
        "        batch_size = self.batch_size[\"test\"]\n",
        "        shuffle = self.shuffle[\"test\"]\n",
        "\n",
        "        dl = DataLoader(\n",
        "            dataset=self.test_ds,\n",
        "            batch_size=batch_size,\n",
        "            shuffle=shuffle,\n",
        "        )\n",
        "\n",
        "        return dl"
      ],
      "execution_count": null,
      "outputs": []
    },
    {
      "cell_type": "markdown",
      "metadata": {
        "collapsed": false,
        "id": "_uDIu6xi52dJ"
      },
      "source": [
        "### Model"
      ]
    },
    {
      "cell_type": "markdown",
      "metadata": {
        "id": "uF-7Hnir0Tip"
      },
      "source": [
        "For all the model definition refer to the project directories Birdcalls.src.pl_module and Birdcalls.our.models.\n"
      ]
    },
    {
      "cell_type": "code",
      "metadata": {
        "id": "HcvvFAXp52dK"
      },
      "source": [
        "class CNNRes(nn.Module):\n",
        "    def __init__(self, in_channels: int, kernel_size: int):\n",
        "        super(CNNRes, self).__init__()\n",
        "\n",
        "        # This padding is added to keep dimensionality the same, it is recommended to choose even kernels.\n",
        "        pad = kernel_size // 2\n",
        "\n",
        "        self.conv1 = nn.Conv2d(\n",
        "            in_channels=in_channels,\n",
        "            out_channels=in_channels,\n",
        "            kernel_size=(kernel_size, kernel_size),\n",
        "            padding=pad,\n",
        "        )\n",
        "\n",
        "        self.conv2 = nn.Conv2d(\n",
        "            in_channels=in_channels,\n",
        "            out_channels=in_channels,\n",
        "            kernel_size=(kernel_size, kernel_size),\n",
        "            padding=pad,\n",
        "        )\n",
        "\n",
        "        self.conv3 = nn.Conv2d(\n",
        "            in_channels=in_channels,\n",
        "            out_channels=in_channels,\n",
        "            kernel_size=(kernel_size, kernel_size),\n",
        "            padding=pad,\n",
        "        )\n",
        "\n",
        "        self.conv4 = nn.Conv2d(\n",
        "            in_channels=in_channels,\n",
        "            out_channels=in_channels,\n",
        "            kernel_size=(kernel_size, kernel_size),\n",
        "            padding=pad,\n",
        "        )\n",
        "\n",
        "        self.conv5 = nn.Conv2d(\n",
        "            in_channels=in_channels,\n",
        "            out_channels=in_channels,\n",
        "            kernel_size=(kernel_size, kernel_size),\n",
        "            padding=pad,\n",
        "        )\n",
        "\n",
        "        self.conv6 = nn.Conv2d(\n",
        "            in_channels=in_channels,\n",
        "            out_channels=in_channels,\n",
        "            kernel_size=(kernel_size, kernel_size),\n",
        "            padding=pad,\n",
        "        )\n",
        "\n",
        "    def forward(self, res):\n",
        "        out = self.conv1(res)\n",
        "        res = self.conv1(out) + res\n",
        "        out = self.conv1(res)\n",
        "        res = self.conv1(out) + res\n",
        "        out = self.conv1(res)\n",
        "        res = self.conv1(out) + res\n",
        "        return res"
      ],
      "execution_count": null,
      "outputs": []
    },
    {
      "cell_type": "code",
      "metadata": {
        "id": "2szQYPRK52dK"
      },
      "source": [
        "class Extraction(nn.Module):\n",
        "    \"\"\"\n",
        "    Feature extraction backbone.\n",
        "    \"\"\"\n",
        "\n",
        "    def __init__(\n",
        "        self,\n",
        "        image_shape: Tuple[int, int, int],\n",
        "        res_kernels: List,\n",
        "        pool: int,\n",
        "    ):\n",
        "        super(Extraction, self).__init__()\n",
        "        self.level = len(res_kernels)\n",
        "\n",
        "        # Residual blocks and convolutions in between them used to change dimensionality/filter sizes.\n",
        "        # We can fix out_channels since all audio data has originally one channel.\n",
        "        self.res = nn.Sequential()\n",
        "        in_channels = image_shape[0]\n",
        "\n",
        "        for n, kernel in enumerate(res_kernels):\n",
        "            res = CNNRes(in_channels=in_channels, kernel_size=kernel)\n",
        "            cnn = nn.Conv2d(\n",
        "                in_channels=in_channels,\n",
        "                out_channels=2 * in_channels,\n",
        "                kernel_size=kernel,\n",
        "                stride=(2, 2),\n",
        "            )\n",
        "\n",
        "            self.res.add_module(name=f\"CNNRes{n+1}\", module=res)\n",
        "            self.res.add_module(name=f\"CNN{n+1}\", module=cnn)\n",
        "\n",
        "            in_channels *= 2\n",
        "\n",
        "        # Output pooling.\n",
        "        self.pool = nn.AvgPool2d(kernel_size=pool)\n",
        "\n",
        "    def forward(self, xb):\n",
        "        out = self.res(xb)\n",
        "        out = self.pool(out)\n",
        "\n",
        "        return out"
      ],
      "execution_count": null,
      "outputs": []
    },
    {
      "cell_type": "code",
      "metadata": {
        "id": "zGkgy41i52dM"
      },
      "source": [
        "class Classification(nn.Module):\n",
        "    def __init__(self, out_features: int, **kwargs):\n",
        "        super().__init__()\n",
        "        self.ext = Extraction(\n",
        "            image_shape=(1, 128, 313),\n",
        "            res_kernels=[3,5],\n",
        "            pool=1,\n",
        "        )\n",
        "\n",
        "        self.gru = nn.GRU(\n",
        "            input_size=9120,\n",
        "            hidden_size=512,\n",
        "            num_layers=1,\n",
        "            bidirectional=True,\n",
        "            dropout=0\n",
        "        )\n",
        "\n",
        "        self.fc = nn.Linear(\n",
        "            in_features=1024, out_features=out_features\n",
        "        )\n",
        "\n",
        "\n",
        "    def forward(self, xb):\n",
        "        # Feature extraction backbone.\n",
        "        out = self.ext(xb)\n",
        "\n",
        "        # Reshape.\n",
        "        b, c, w, h = out.shape\n",
        "        out = out.reshape(b, 1, c * w * h).transpose(0, 1)\n",
        "\n",
        "        # Prediction head.\n",
        "        out, _ = self.gru(out)\n",
        "        logits = self.fc(out.squeeze(0))\n",
        "\n",
        "        return logits\n"
      ],
      "execution_count": null,
      "outputs": []
    },
    {
      "cell_type": "code",
      "metadata": {
        "id": "MLejOfzw52dM"
      },
      "source": [
        "class JointClassification(pl.LightningModule):\n",
        "    def __init__(self, out_features: int, **kwargs):\n",
        "        super(JointClassification, self).__init__()\n",
        "        self.save_hyperparameters()\n",
        "        self.model = Classification(out_features=out_features)\n",
        "\n",
        "        self.loss = nn.CrossEntropyLoss()\n",
        "\n",
        "        accuracy = torchmetrics.Accuracy()\n",
        "        self.train_accuracy = accuracy.clone()\n",
        "        self.val_accuracy = accuracy.clone()\n",
        "        self.test_accuracy = accuracy.clone()\n",
        "\n",
        "        precision = torchmetrics.Precision()\n",
        "        self.train_precision = precision.clone()\n",
        "        self.val_precision = precision.clone()\n",
        "        self.test_precision = precision.clone()\n",
        "\n",
        "        recall = torchmetrics.Recall()\n",
        "        self.train_recall = recall.clone()\n",
        "        self.val_recall = recall.clone()\n",
        "        self.test_recall = recall.clone()\n",
        "\n",
        "    def forward(self, xb):\n",
        "        logits = self.model(xb)\n",
        "        preds = torch.argmax(logits, dim=-1)\n",
        "        return logits, preds\n",
        "\n",
        "    def step(self, x: torch.Tensor, y: torch.Tensor):\n",
        "        logits, preds = self(x)\n",
        "        loss = self.loss(logits, y)\n",
        "        return {\"logits\": logits, \"preds\": preds, \"loss\": loss}\n",
        "\n",
        "    def training_step(self, batch: Any, batch_idx: int) -> torch.Tensor:\n",
        "        targets = batch[\"targets\"]\n",
        "        specs = batch[\"spectrograms\"]\n",
        "        out_step = self.step(x=specs, y=targets)\n",
        "\n",
        "        x = out_step[\"preds\"]\n",
        "        y = targets\n",
        "\n",
        "        self.train_accuracy(x, y)\n",
        "        self.train_precision(x, y)\n",
        "        self.train_recall(x, y)\n",
        "\n",
        "        self.log_dict(\n",
        "            {\n",
        "                \"train_loss\": out_step[\"loss\"],\n",
        "                \"train_acc\": self.train_accuracy.compute(),\n",
        "                \"train_prec\": self.train_precision.compute(),\n",
        "                \"train_rec\": self.train_recall.compute(),\n",
        "            }\n",
        "        )\n",
        "        return out_step[\"loss\"]\n",
        "\n",
        "    def validation_step(self, batch: Any, batch_idx: int):\n",
        "        targets = batch[\"targets\"]\n",
        "        specs = batch[\"spectrograms\"]\n",
        "        out_step = self.step(x=specs, y=targets)\n",
        "\n",
        "        x = out_step[\"preds\"]\n",
        "        y = targets\n",
        "\n",
        "        self.val_accuracy(x, y)\n",
        "        self.val_precision(x, y)\n",
        "        self.val_recall(x, y)\n",
        "\n",
        "        self.log_dict(\n",
        "            {\n",
        "                \"val_loss\": out_step[\"loss\"],\n",
        "                \"val_acc\": self.val_accuracy.compute(),\n",
        "                \"val_prec\": self.val_precision.compute(),\n",
        "                \"val_rec\": self.val_recall.compute(),\n",
        "            }\n",
        "        )\n",
        "        return out_step[\"loss\"]\n",
        "\n",
        "    def test_step(self, batch: Any, batch_idx: int):\n",
        "        targets = batch[\"targets\"]\n",
        "        specs = batch[\"spectrograms\"]\n",
        "        out_step = self.step(x=specs, y=targets)\n",
        "\n",
        "        x = out_step[\"preds\"]\n",
        "        y = targets\n",
        "\n",
        "        self.test_accuracy(x, y)\n",
        "        self.test_precision(x, y)\n",
        "        self.test_recall(x, y)\n",
        "\n",
        "        self.log_dict(\n",
        "            {\n",
        "                \"test_acc\": self.test_accuracy.compute(),\n",
        "                \"test_prec\": self.test_precision.compute(),\n",
        "                \"test_rec\": self.test_recall.compute(),\n",
        "            }\n",
        "        )\n",
        "        \n",
        "        # Get the list of classes.\n",
        "        ordered = sorted(load_vocab(BIRD2IDX).items(), key=lambda item: int(item[1]))\n",
        "        classes = [c for c, _ in ordered] + [\"nocall\"]\n",
        "\n",
        "        self.logger.experiment.log(\n",
        "            {\n",
        "                \"conf_mat\": wandb.plot.confusion_matrix(\n",
        "                    probs=None,\n",
        "                    preds=x.cpu().numpy(),\n",
        "                    y_true=y.cpu().numpy(),\n",
        "                    class_names=classes,\n",
        "                )\n",
        "            }\n",
        "        )\n",
        "\n",
        "    def configure_optimizers(self):\n",
        "        opt = self.hparams.optim[\"optimizer\"][\"fn\"](\n",
        "            params=self.parameters(),\n",
        "            lr=self.hparams.optim[\"optimizer\"][\"lr\"],\n",
        "            betas=self.hparams.optim[\"optimizer\"][\"betas\"],\n",
        "            eps=self.hparams.optim[\"optimizer\"][\"eps\"],\n",
        "            weight_decay=self.hparams.optim[\"optimizer\"][\"weight_decay\"],\n",
        "        )\n",
        "        \n",
        "        if not self.hparams.optim[\"use_lr_scheduler\"]:\n",
        "            return {\"optimizer\": opt}\n",
        "        else:\n",
        "            scheduler = self.hparams.optim[\"lr_scheduler\"][\"fn\"](\n",
        "                optimizer=opt,\n",
        "                T_0=self.hparams.optim[\"lr_scheduler\"][\"T_0\"],\n",
        "                T_mult=self.hparams.optim[\"lr_scheduler\"][\"T_mult\"],\n",
        "                eta_min=self.hparams.optim[\"lr_scheduler\"][\"eta_min\"],\n",
        "                last_epoch=self.hparams.optim[\"lr_scheduler\"][\"last_epoch\"],\n",
        "                verbose=self.hparams.optim[\"lr_scheduler\"][\"verbose\"],\n",
        "            )\n",
        "            return {\"optimizer\": opt, \"lr_scheduler\": scheduler}"
      ],
      "execution_count": null,
      "outputs": []
    },
    {
      "cell_type": "markdown",
      "metadata": {
        "collapsed": false,
        "id": "mKcHnDLK52dM"
      },
      "source": [
        "## Training"
      ]
    },
    {
      "cell_type": "markdown",
      "metadata": {
        "id": "0oJs-elN13OJ"
      },
      "source": [
        "Environmental and setup variables."
      ]
    },
    {
      "cell_type": "code",
      "metadata": {
        "id": "RsJwIAcu52dN"
      },
      "source": [
        "TRAIN_SPECTROGRAMS= Path(\"/content/gdrive/My Drive/Colab Notebooks/Birdcalls/out/precomputed/train/joint/spectrograms.pt\")\n",
        "TRAIN_TARGETS= Path(\"/content/gdrive/My Drive/Colab Notebooks/Birdcalls/out/precomputed/train/joint/targets.pt\")\n",
        "\n",
        "VAL_SPECTROGRAMS= Path(\"/content/gdrive/My Drive/Colab Notebooks/Birdcalls/out/precomputed/val/joint/spectrograms.pt\")\n",
        "VAL_TARGETS= Path(\"/content/gdrive/My Drive/Colab Notebooks/Birdcalls/out/precomputed/val/joint/targets.pt\")\n",
        "\n",
        "TEST_SPECTROGRAMS= Path(\"/content/gdrive/My Drive/Colab Notebooks/Birdcalls/out/precomputed/test/joint/spectrograms.pt\")\n",
        "TEST_TARGETS= Path(\"/content/gdrive/My Drive/Colab Notebooks/Birdcalls/out/precomputed/test/joint/targets.pt\")\n",
        "\n",
        "BIRD2IDX = Path(\"/content/gdrive/My Drive/Colab Notebooks/Birdcalls/out/vocabs/bird2idx.json\")"
      ],
      "execution_count": null,
      "outputs": []
    },
    {
      "cell_type": "code",
      "metadata": {
        "id": "xgTBWPOK52dN"
      },
      "source": [
        "num_workers = {'train': 12, 'val': 12, 'test':12}\n",
        "batch_size = {'train': 8, 'val': 8, 'test':8}\n",
        "shuffle = {'train': True, 'val': False, 'test': False}\n",
        "\n",
        "# Optimizer\n",
        "optimizer = {'fn': torch.optim.Adam,\n",
        "             'lr': 1e-4, #You can even try 1e-4\n",
        "             'betas': [ 0.9, 0.999 ],\n",
        "             'eps': 1e-08,\n",
        "             'weight_decay': 0\n",
        "             }\n",
        "\n",
        "use_lr_scheduler = False\n",
        "\n",
        "lr_scheduler = {'fn': torch.optim.lr_scheduler.CosineAnnealingWarmRestarts,\n",
        "                'T_0': 10,\n",
        "                'T_mult': 2,\n",
        "                'eta_min': 0,\n",
        "                'last_epoch': -1,\n",
        "                'verbose': True}\n",
        "\n",
        "optim = {'optimizer': optimizer,\n",
        "         'use_lr_scheduler': use_lr_scheduler,\n",
        "         'lr_scheduler': lr_scheduler}\n",
        "\n",
        "# Trainer\n",
        "train = {\n",
        "    \"deterministic\": True,\n",
        "    \"random_seed\": 42,\n",
        "    \"val_check_interval\": 1.0,\n",
        "    \"progress_bar_refresh_rate\": 20,\n",
        "    \"fast_dev_run\": False, # True for debug purposes.\n",
        "    \"gpus\": -1 if torch.cuda.is_available() else 0,\n",
        "    \"precision\": 32,\n",
        "    \"max_steps\": 100,\n",
        "    \"max_epochs\": 20,\n",
        "    \"accumulate_grad_batches\": 1,\n",
        "    \"num_sanity_val_steps\": 2,\n",
        "    \"gradient_clip_val\": 10.0\n",
        "}"
      ],
      "execution_count": null,
      "outputs": []
    },
    {
      "cell_type": "code",
      "metadata": {
        "id": "SEK0xNcD52dN"
      },
      "source": [
        "# Call that only once!\n",
        "if train[\"deterministic\"]:\n",
        "    seed_everything(train[\"random_seed\"])"
      ],
      "execution_count": null,
      "outputs": []
    },
    {
      "cell_type": "markdown",
      "metadata": {
        "collapsed": false,
        "id": "cuQ-wTKt52dO"
      },
      "source": [
        "W&B login."
      ]
    },
    {
      "cell_type": "code",
      "metadata": {
        "id": "VKnfUXpG52dO"
      },
      "source": [
        "wandb.login()"
      ],
      "execution_count": null,
      "outputs": []
    },
    {
      "cell_type": "markdown",
      "metadata": {
        "id": "v2Yc-Bu-2Gkr"
      },
      "source": [
        "Let's setup the trainer and we can run it."
      ]
    },
    {
      "cell_type": "code",
      "metadata": {
        "id": "7CxJU8PQ52dO"
      },
      "source": [
        "datamodule = JointDataModule(num_workers=num_workers,\n",
        "                        batch_size=batch_size,\n",
        "                        shuffle=shuffle)\n",
        "\n",
        "model = JointClassification(optim=optim, out_features=398)\n",
        "\n",
        "wandb_logger = WandbLogger(\n",
        "    project=\"Joint classification\",\n",
        "    config={\n",
        "        \"batch_size\": batch_size['train'],\n",
        "        \"learning_rate\": optimizer['lr'],\n",
        "        \"optimizer\": optimizer['fn'],\n",
        "        \"betas\": optimizer[\"betas\"],\n",
        "        \"eps\": optimizer[\"eps\"],\n",
        "        \"weight_decay\": optimizer[\"weight_decay\"],\n",
        "        \"lr_scheduler\": use_lr_scheduler,\n",
        "        \"T_0\": lr_scheduler[\"T_0\"],\n",
        "        \"T_mult\": lr_scheduler[\"T_mult\"],\n",
        "        \"eta_min\": lr_scheduler[\"eta_min\"],\n",
        "        \"last_epoch\": lr_scheduler[\"last_epoch\"],\n",
        "        \"dataset\": \"Bird CLEF 2021\",\n",
        "        \"summary\": summary(model),\n",
        "        }\n",
        ")\n",
        "\n",
        "trainer = pl.Trainer(\n",
        "        logger=wandb_logger,\n",
        "        deterministic=train[\"deterministic\"],\n",
        "        gpus=train[\"gpus\"],\n",
        "        max_epochs=train[\"max_epochs\"],\n",
        "    )"
      ],
      "execution_count": null,
      "outputs": []
    },
    {
      "cell_type": "code",
      "metadata": {
        "id": "0m6D7tb152dO"
      },
      "source": [
        "print(summary(model))\n",
        "print(model)"
      ],
      "execution_count": null,
      "outputs": []
    },
    {
      "cell_type": "markdown",
      "metadata": {
        "collapsed": false,
        "id": "Ghq74EeU52dP"
      },
      "source": [
        "Fit"
      ]
    },
    {
      "cell_type": "code",
      "metadata": {
        "id": "deAgq1zE52dP"
      },
      "source": [
        "trainer.fit(model=model, datamodule=datamodule)"
      ],
      "execution_count": null,
      "outputs": []
    },
    {
      "cell_type": "markdown",
      "metadata": {
        "collapsed": false,
        "id": "aA2UnaYo52dP"
      },
      "source": [
        "Validation"
      ]
    },
    {
      "cell_type": "code",
      "metadata": {
        "id": "5wTnOx8J52dP"
      },
      "source": [
        "trainer.validate(model=model, datamodule=datamodule)"
      ],
      "execution_count": null,
      "outputs": []
    },
    {
      "cell_type": "markdown",
      "metadata": {
        "id": "jAmclaSB2H-1"
      },
      "source": [
        "Test"
      ]
    },
    {
      "cell_type": "code",
      "metadata": {
        "id": "WOFsv7cXVoMO"
      },
      "source": [
        "trainer.test(model=model, datamodule=datamodule)"
      ],
      "execution_count": null,
      "outputs": []
    },
    {
      "cell_type": "markdown",
      "metadata": {
        "collapsed": false,
        "id": "piQ7Q7zl52dP"
      },
      "source": [
        "Quit W&B"
      ]
    },
    {
      "cell_type": "code",
      "metadata": {
        "id": "uVvCxp5o52dQ"
      },
      "source": [
        "wandb.finish()"
      ],
      "execution_count": null,
      "outputs": []
    }
  ]
}